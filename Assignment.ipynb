{
 "cells": [
  {
   "cell_type": "code",
   "execution_count": 6,
   "id": "1b07ee26-d39e-4b61-8955-f7c36c00b00d",
   "metadata": {},
   "outputs": [
    {
     "name": "stdout",
     "output_type": "stream",
     "text": [
      " mahbuhS\n"
     ]
    }
   ],
   "source": [
    "# 1.Ans.\n",
    "\n",
    "def reverseString(s):\n",
    "    reverse_string = \" \"\n",
    "    for i in range(len(s)-1,-1,-1):\n",
    "        reverse_string+=s[i]\n",
    "        \n",
    "    return reverse_string\n",
    "\n",
    "String = \"Shubham\"\n",
    "reversed_string = reverseString(String)\n",
    "\n",
    "print(reversed_string)\n",
    "    \n",
    "    \n",
    "\n"
   ]
  },
  {
   "cell_type": "code",
   "execution_count": 3,
   "id": "03e1766c-a18b-427a-a556-04891e4b3788",
   "metadata": {},
   "outputs": [
    {
     "name": "stdout",
     "output_type": "stream",
     "text": [
      "True\n"
     ]
    }
   ],
   "source": [
    "# 2.Ans.\n",
    "\n",
    "def check_palindrome(s):\n",
    "    s = s.replace(\" \",\" \").lower()\n",
    "    \n",
    "    return s == s[::-1]\n",
    "\n",
    "s = \"abba\"\n",
    "\n",
    "print(check_palindrome(s))\n",
    "\n",
    "\n",
    "    \n",
    "\n"
   ]
  },
  {
   "cell_type": "code",
   "execution_count": 4,
   "id": "bf3b8989-89ed-4eed-925e-8d8d8e12b9d5",
   "metadata": {},
   "outputs": [
    {
     "name": "stdout",
     "output_type": "stream",
     "text": [
      "677\n"
     ]
    }
   ],
   "source": [
    "# 3.Ans.\n",
    "\n",
    "def largest_element(l):\n",
    "    if not s:\n",
    "        return none\n",
    "    sorted_l = sorted(l,reverse = True)\n",
    "    largest = sorted_l[0]\n",
    "    \n",
    "    return largest\n",
    "\n",
    "l = [8,10,23,4,5,6,5,4,5,6,7,8,100,345,677,1,4,2,5]\n",
    "\n",
    "print(largest_element(l))"
   ]
  },
  {
   "cell_type": "code",
   "execution_count": 12,
   "id": "0fb02685-019a-4824-b86a-f34c22ba89fe",
   "metadata": {},
   "outputs": [
    {
     "name": "stdout",
     "output_type": "stream",
     "text": [
      "1 occurs 2 times\n",
      "2 occurs 4 times\n",
      "3 occurs 1 times\n",
      "4 occurs 2 times\n",
      "5 occurs 1 times\n"
     ]
    }
   ],
   "source": [
    "# 4.Ans.\n",
    "\n",
    "def count_occurrences(lst):\n",
    "    occurrence_count = {}\n",
    "\n",
    "    for element in lst:\n",
    "        if element in occurrence_count:\n",
    "            occurrence_count[element] += 1\n",
    "        else:\n",
    "            occurrence_count[element] = 1\n",
    "\n",
    "    return occurrence_count\n",
    "\n",
    "numbers = [1,2,3,1,4,2,4,2,2,5]\n",
    "          \n",
    "occurrence_dict = count_occurrences(numbers)\n",
    "\n",
    "for element, count in occurrence_dict.items():\n",
    "    print(f\"{element} occurs {count} times\")\n",
    "\n",
    "\n"
   ]
  },
  {
   "cell_type": "code",
   "execution_count": 13,
   "id": "be8df772-b28e-4d4b-a4ed-ba672587dd66",
   "metadata": {},
   "outputs": [
    {
     "name": "stdout",
     "output_type": "stream",
     "text": [
      "345\n"
     ]
    }
   ],
   "source": [
    "# 5.Ans.\n",
    "\n",
    "def largest_element(l):\n",
    "    if not s:\n",
    "        return none\n",
    "    sorted_l = sorted(l,reverse = True)\n",
    "    largest = sorted_l[1]\n",
    "    \n",
    "    return largest\n",
    "\n",
    "l = [8,10,23,4,5,6,5,4,5,6,7,8,100,345,677,1,4,2,5]\n",
    "\n",
    "print(largest_element(l))"
   ]
  },
  {
   "cell_type": "code",
   "execution_count": 15,
   "id": "0724ceae-45d2-4353-9fd7-39055cb4c0f6",
   "metadata": {},
   "outputs": [
    {
     "name": "stdout",
     "output_type": "stream",
     "text": [
      "[1, 2, 3, 4, 5]\n"
     ]
    }
   ],
   "source": [
    "# 6.Ans.\n",
    "\n",
    "def removeDuplicates(l):\n",
    "    return list(set(l))\n",
    "\n",
    "l = [1,2,3,1,4,5,5,1,2]\n",
    "print(removeDuplicates(l))\n",
    "\n"
   ]
  },
  {
   "cell_type": "code",
   "execution_count": 17,
   "id": "f7759010-131e-46b8-92a6-8fba9bc34b68",
   "metadata": {},
   "outputs": [
    {
     "name": "stdout",
     "output_type": "stream",
     "text": [
      "120\n"
     ]
    }
   ],
   "source": [
    "# 7.Ans.\n",
    "\n",
    "def factorial(n):\n",
    "    if n==0 or n==1:\n",
    "        return 1\n",
    "    else:\n",
    "        return factorial(n-1)*n\n",
    "    \n",
    "n = 5\n",
    "print(factorial(5))"
   ]
  },
  {
   "cell_type": "code",
   "execution_count": 21,
   "id": "dcc60bfa-a023-4981-bcda-aa773f4a9661",
   "metadata": {},
   "outputs": [
    {
     "name": "stdout",
     "output_type": "stream",
     "text": [
      "13 is a prime number\n"
     ]
    }
   ],
   "source": [
    "# 8.Ans.\n",
    "\n",
    "def is_prime(n):\n",
    "    if n<=1:\n",
    "        return False\n",
    "    \n",
    "    for i in range(2,n):\n",
    "        if n%i==0:\n",
    "            return False \n",
    "    return True\n",
    "\n",
    "n = 13\n",
    "if is_prime(n):\n",
    "    print(f\"{n} is a prime number\")\n",
    "else:\n",
    "    print(f\"{n} is not a prime number\")\n",
    "\n",
    "    "
   ]
  },
  {
   "cell_type": "code",
   "execution_count": 27,
   "id": "64249841-93e3-4810-b11a-baecf4fa887f",
   "metadata": {},
   "outputs": [
    {
     "name": "stdout",
     "output_type": "stream",
     "text": [
      "[1, 2, 10, 20, 30, 43, 56, 78]\n"
     ]
    }
   ],
   "source": [
    "# 9.Ans.\n",
    "\n",
    "def sortList(l):\n",
    "    \n",
    "    sorted_list = sorted(l)\n",
    "    return sorted_list\n",
    "\n",
    "l = [1,20,30,2,56,78,43,10]\n",
    "print(sortList(l))"
   ]
  },
  {
   "cell_type": "code",
   "execution_count": 30,
   "id": "e66d6e0a-da70-4dc5-b395-00b220435d5a",
   "metadata": {},
   "outputs": [
    {
     "name": "stdout",
     "output_type": "stream",
     "text": [
      "55\n"
     ]
    }
   ],
   "source": [
    "# 10.Ans.\n",
    "\n",
    "def sumNumbers(l):\n",
    "    Sum = 0\n",
    "    \n",
    "    for num in l:\n",
    "        Sum+=num\n",
    "        \n",
    "    return Sum\n",
    "\n",
    "l = [1,2,3,4,5,6,7,8,9,10]\n",
    "print(sumNumbers(l))\n",
    "        \n",
    "    \n",
    "    "
   ]
  },
  {
   "cell_type": "code",
   "execution_count": 33,
   "id": "bf915cf5-e713-4b14-a2b3-51c6d57ec3ff",
   "metadata": {},
   "outputs": [
    {
     "name": "stdout",
     "output_type": "stream",
     "text": [
      "[3, 4, 8]\n"
     ]
    }
   ],
   "source": [
    "# 11.Ans.\n",
    "\n",
    "def common_element(l1,l2):\n",
    "    CommonElement=[]\n",
    "    \n",
    "    for element in l1:\n",
    "        if element in l2:\n",
    "            CommonElement.append(element)\n",
    "            \n",
    "    return CommonElement\n",
    "\n",
    "l1 = [1,2,3,4,7,8]\n",
    "l2=[4,3,8,10,4,5]\n",
    "\n",
    "print(common_element(l1,l2))\n",
    "    \n",
    "    \n",
    "    "
   ]
  },
  {
   "cell_type": "code",
   "execution_count": 38,
   "id": "bbafa124-6c2a-4e21-86b2-7f556903b7d1",
   "metadata": {},
   "outputs": [
    {
     "name": "stdout",
     "output_type": "stream",
     "text": [
      "silent and listen are anagrams.\n"
     ]
    }
   ],
   "source": [
    "# 12.Ans.\n",
    "\n",
    "def check_anagram(s1,s2):\n",
    "    s1 = s1.replace(\" \",\" \").lower()\n",
    "    s2 = s2.replace(\" \",\" \").lower()\n",
    "    \n",
    "    return sorted(s1)==sorted(s2)\n",
    "\n",
    "s1 = \"silent\"\n",
    "s2 = \"listen\"\n",
    "if check_anagram(s1,s2):\n",
    "        print(f\"{s1} and {s2} are anagrams.\")\n",
    "else:\n",
    "    print(f\"{s1} and {s2} are not anagrams.\")\n",
    "        "
   ]
  },
  {
   "cell_type": "code",
   "execution_count": 44,
   "id": "982ea43a-cab5-4084-8d04-137284fa6c1b",
   "metadata": {},
   "outputs": [
    {
     "name": "stdout",
     "output_type": "stream",
     "text": [
      "All permutations of abc are:\n",
      "abc\n",
      "acb\n",
      "bac\n",
      "bca\n",
      "cab\n",
      "cba\n"
     ]
    }
   ],
   "source": [
    "# 13.Ans.\n",
    "\n",
    "def permutation_string(string):\n",
    "    if len(string) == 1:\n",
    "        return [string]\n",
    "\n",
    "    permutations = []\n",
    "\n",
    "    for i in range(len(string)):\n",
    "        current_char = string[i]\n",
    "\n",
    "        remaining_chars = string[:i] + string[i+1:]\n",
    "        sub_permutations = permutation_string(remaining_chars)\n",
    "\n",
    "        for sub_permutation in sub_permutations:\n",
    "            permutations.append(current_char + sub_permutation)\n",
    "\n",
    "    return permutations\n",
    "string = \"abc\"\n",
    "permutations = permutation_string(string)\n",
    "print(\"All permutations of\", string, \"are:\")\n",
    "for permutation in permutations:\n",
    "    print(permutation)\n",
    "\n",
    "        \n",
    "    "
   ]
  },
  {
   "cell_type": "code",
   "execution_count": 55,
   "id": "cd614e08-2758-4f36-bd71-57a8ef3a8210",
   "metadata": {},
   "outputs": [
    {
     "name": "stdout",
     "output_type": "stream",
     "text": [
      "[0, 1, 1, 2, 3, 5, 8, 13, 21, 34]\n"
     ]
    }
   ],
   "source": [
    "# 14.Ans.\n",
    "\n",
    "def fibonacci_sequence(n):\n",
    "    sequence = []\n",
    "\n",
    "    \n",
    "    if n <= 0:\n",
    "        return sequence\n",
    "\n",
    "    \n",
    "    sequence.append(0)\n",
    "    if n >= 2:\n",
    "        sequence.append(1)\n",
    "\n",
    "    for i in range(2, n):\n",
    "        term = sequence[i-1] + sequence[i-2]\n",
    "        sequence.append(term)\n",
    "\n",
    "    return sequence\n",
    "\n",
    "\n",
    "n = 10\n",
    "print(fibonacci_sequence(n))"
   ]
  },
  {
   "cell_type": "code",
   "execution_count": 58,
   "id": "59f3b747-5b6d-4c50-8b8f-0e30f443f90e",
   "metadata": {},
   "outputs": [
    {
     "name": "stdout",
     "output_type": "stream",
     "text": [
      "3.5\n"
     ]
    },
    {
     "data": {
      "text/plain": [
       "'\\nimport statistics\\n\\ndef find_median(l):\\n    median = statistics.median(l)\\n    return median\\n    '"
      ]
     },
     "execution_count": 58,
     "metadata": {},
     "output_type": "execute_result"
    }
   ],
   "source": [
    "# 15.Ans.\n",
    "\n",
    "def find_median(l):\n",
    "    sorted_numbers = sorted(l)\n",
    "    n = len(sorted_numbers)\n",
    "\n",
    "    if n % 2 == 0:\n",
    "        mid1 = n // 2\n",
    "        mid2 = mid1 - 1\n",
    "        median = (sorted_numbers[mid1] + sorted_numbers[mid2]) / 2\n",
    "    else:\n",
    "        mid = n // 2\n",
    "        median = sorted_numbers[mid]\n",
    "\n",
    "    return median\n",
    "\n",
    "l = [1,2,3,4,5,6]\n",
    "print(find_median(l))\n",
    "\n",
    "\n",
    "\n",
    "# This can be also solved by using this method \n",
    "\"\"\"\n",
    "import statistics\n",
    "\n",
    "def find_median(l):\n",
    "    median = statistics.median(l)\n",
    "    return median\n",
    "    \"\"\"\n",
    "\n",
    "    "
   ]
  },
  {
   "cell_type": "code",
   "execution_count": 62,
   "id": "68dcbe8b-9f43-4beb-8168-85948ff937c3",
   "metadata": {},
   "outputs": [
    {
     "name": "stdout",
     "output_type": "stream",
     "text": [
      "False\n"
     ]
    }
   ],
   "source": [
    "# 16.Ans.\n",
    "\n",
    "def is_sorted(l):\n",
    "    n = len(l)\n",
    "    \n",
    "    for i in range(1,n):\n",
    "        if l[i]<l[i-1]:\n",
    "            return False\n",
    "        \n",
    "    return True\n",
    "n = [1,2,49,3,10,18]\n",
    "print(is_sorted(n))\n",
    "        "
   ]
  },
  {
   "cell_type": "code",
   "execution_count": 63,
   "id": "e081ff61-f8e7-4368-8078-2f206e315571",
   "metadata": {},
   "outputs": [
    {
     "name": "stdout",
     "output_type": "stream",
     "text": [
      "[1, 2]\n"
     ]
    }
   ],
   "source": [
    "# 17.Ans.\n",
    "\n",
    "def intersectionList(l1,l2):\n",
    "    set1 = set(l1)\n",
    "    set2 = set(l2)\n",
    "    \n",
    "    intersection = set1.intersection(set2)\n",
    "    return list(intersection)\n",
    "\n",
    "l1 = [1,2,3,4,56]\n",
    "l2 = [1,2,5,10,12]\n",
    "\n",
    "print(intersectionList(l1,l2))\n",
    "\n"
   ]
  },
  {
   "cell_type": "code",
   "execution_count": 64,
   "id": "58fc2548-fbb9-44be-8f09-0188a2688e2a",
   "metadata": {},
   "outputs": [
    {
     "name": "stdout",
     "output_type": "stream",
     "text": [
      "32\n"
     ]
    }
   ],
   "source": [
    "# 18.Ans.\n",
    "\n",
    "def find_max_subarray_sum(nums):\n",
    "    max_sum = float('-inf')\n",
    "    current_sum = 0\n",
    "\n",
    "    for num in nums:\n",
    "        current_sum = max(num, current_sum + num)\n",
    "        max_sum = max(max_sum, current_sum)\n",
    "\n",
    "    return max_sum\n",
    "nums = [ 1,2,-6,7,8,-1,6,7,2,3]\n",
    "print(find_max_subarray_sum(nums))"
   ]
  },
  {
   "cell_type": "code",
   "execution_count": 66,
   "id": "f98fecff-db1a-4470-8bc5-220e4a769ad1",
   "metadata": {},
   "outputs": [
    {
     "name": "stdout",
     "output_type": "stream",
     "text": [
      " bcdfjnmccmc\n"
     ]
    }
   ],
   "source": [
    "# 19.Ans.\n",
    "\n",
    "def removeVowels(s):\n",
    "    vowels = 'aeiouAEIOU'\n",
    "    result=\" \"\n",
    "    \n",
    "    for char in s:\n",
    "        if char not in vowels:\n",
    "            result+=char\n",
    "    return result\n",
    "\n",
    "s = \"abcdefAjIOnmccmc\"\n",
    "print(removeVowels(s))"
   ]
  },
  {
   "cell_type": "code",
   "execution_count": 67,
   "id": "d740d261-134a-46bd-a74b-8385a9675dda",
   "metadata": {},
   "outputs": [
    {
     "name": "stdout",
     "output_type": "stream",
     "text": [
      "Mishra Shubham\n"
     ]
    }
   ],
   "source": [
    "# 20.Ans.\n",
    "\n",
    "def reverse_words(sentence):\n",
    "    words = sentence.split()\n",
    "    reversed_sentence = ' '.join(reversed(words))\n",
    "    return reversed_sentence\n",
    "sentence = \"Shubham Mishra\"\n",
    "print(reverse_words(sentence))"
   ]
  },
  {
   "cell_type": "code",
   "execution_count": 68,
   "id": "c866590f-774a-4acf-9578-df4d6d957f43",
   "metadata": {},
   "outputs": [
    {
     "name": "stdout",
     "output_type": "stream",
     "text": [
      "silent and listen are anagrams.\n"
     ]
    }
   ],
   "source": [
    "# 21.Ans.\n",
    "\n",
    "def check_anagram(s1,s2):\n",
    "    s1 = s1.replace(\" \",\" \").lower()\n",
    "    s2 = s2.replace(\" \",\" \").lower()\n",
    "    \n",
    "    return sorted(s1)==sorted(s2)\n",
    "\n",
    "s1 = \"silent\"\n",
    "s2 = \"listen\"\n",
    "if check_anagram(s1,s2):\n",
    "        print(f\"{s1} and {s2} are anagrams.\")\n",
    "else:\n",
    "    print(f\"{s1} and {s2} are not anagrams.\")\n",
    "        \n",
    "\n"
   ]
  },
  {
   "cell_type": "code",
   "execution_count": 69,
   "id": "6808d9f5-5abe-44fe-b2c6-664efc409df6",
   "metadata": {},
   "outputs": [
    {
     "name": "stdout",
     "output_type": "stream",
     "text": [
      "S\n"
     ]
    }
   ],
   "source": [
    "# 22.Ans.\n",
    "\n",
    "def non_repeating(s):\n",
    "    char_count = {}\n",
    "    \n",
    "    for char in s:\n",
    "        char_count[char] = char_count.get(char, 0) + 1\n",
    "        \n",
    "    for char in s:\n",
    "        if char_count[char]==1:\n",
    "            return char\n",
    "        \n",
    "    return none\n",
    "\n",
    "s = \"Shubham\"\n",
    "print(non_repeating(s))\n",
    "\n",
    "            \n",
    "    "
   ]
  },
  {
   "cell_type": "code",
   "execution_count": 70,
   "id": "205a5385-b40d-4da3-aa3a-0f3d5f7439a6",
   "metadata": {},
   "outputs": [
    {
     "name": "stdout",
     "output_type": "stream",
     "text": [
      "[2, 2, 5]\n"
     ]
    }
   ],
   "source": [
    "# 23.Ans.\n",
    "\n",
    "def find_prime_factors(n):\n",
    "    factors = []\n",
    "    divisor = 2\n",
    "\n",
    "    while divisor <= n:\n",
    "        if n % divisor == 0:\n",
    "            factors.append(divisor)\n",
    "            n = n / divisor\n",
    "        else:\n",
    "            divisor += 1\n",
    "\n",
    "    return factors\n",
    "n = 20\n",
    "print(find_prime_factors(n))\n",
    "    "
   ]
  },
  {
   "cell_type": "code",
   "execution_count": 3,
   "id": "e2a791cb-80e6-4017-a633-ccbd7840868f",
   "metadata": {},
   "outputs": [
    {
     "name": "stdout",
     "output_type": "stream",
     "text": [
      "True\n"
     ]
    }
   ],
   "source": [
    "# 24.Ans.\n",
    "\n",
    "def powerOf2(n):\n",
    "    if n<=0:\n",
    "        return False\n",
    "    while n>1:\n",
    "        if n%2!=0:\n",
    "            return False\n",
    "        n=n//2\n",
    "    return True\n",
    "\n",
    "n = 32\n",
    "print(powerOf2(n))\n",
    "    \n",
    "\n"
   ]
  },
  {
   "cell_type": "code",
   "execution_count": 9,
   "id": "5a6c3920-0e38-4fd1-83dc-11b00f7cd0d2",
   "metadata": {},
   "outputs": [
    {
     "name": "stdout",
     "output_type": "stream",
     "text": [
      "[1, 3, 4, 6, 7, 10, 26, 45, 62, 78, 100, 200]\n"
     ]
    }
   ],
   "source": [
    "# 25.Ans.\n",
    "\n",
    "def merge2List(l1,l2):\n",
    "    merge_list = sorted(l1+l2)\n",
    "    return merge_list\n",
    "    \n",
    "l1 = [1,26,3,78,6,100]\n",
    "l2 = [4,7,10,45,62,200]\n",
    "\n",
    "print(merge2List(l1,l2))\n"
   ]
  },
  {
   "cell_type": "code",
   "execution_count": 11,
   "id": "bee77771-4276-4610-abe6-2161f5b0da02",
   "metadata": {},
   "outputs": [
    {
     "name": "stdout",
     "output_type": "stream",
     "text": [
      "1\n"
     ]
    }
   ],
   "source": [
    "# 26.Ans.\n",
    "\n",
    "import statistics\n",
    "def find_mode(l1):\n",
    "    mode = statistics.mode(l)\n",
    "    return mode\n",
    "\n",
    "l = [1,2,3,4,5,6,7]\n",
    "print(find_mode(l))"
   ]
  },
  {
   "cell_type": "code",
   "execution_count": 14,
   "id": "b661a363-ea13-4691-9296-cd734bd2a049",
   "metadata": {},
   "outputs": [
    {
     "name": "stdout",
     "output_type": "stream",
     "text": [
      "5\n"
     ]
    }
   ],
   "source": [
    "# 27.Ans.\n",
    "\n",
    "def find_Gcd(n1,n2):\n",
    "    if (n2==0):\n",
    "        return abs(n1)\n",
    "    else:\n",
    "        return find_Gcd(n2,n1%n2)\n",
    "    \n",
    "n1 = 10\n",
    "n2 = 5\n",
    "\n",
    "print(find_Gcd(n1,n2))\n",
    "        \n",
    "    \n",
    "    "
   ]
  },
  {
   "cell_type": "code",
   "execution_count": 5,
   "id": "e20c65d1-cb82-489a-a386-7727e1324c02",
   "metadata": {},
   "outputs": [
    {
     "name": "stdout",
     "output_type": "stream",
     "text": [
      "4.0\n"
     ]
    }
   ],
   "source": [
    "# 28.Ans.\n",
    "\n",
    "import math\n",
    "def square_root(n):\n",
    "     return math.sqrt(n)\n",
    "    \n",
    "n = 16\n",
    "print(square_root(n))\n",
    "    \n",
    "\n",
    "    \n"
   ]
  },
  {
   "cell_type": "code",
   "execution_count": 6,
   "id": "d7b4e0ba-10b7-496a-912b-c42148570b30",
   "metadata": {},
   "outputs": [
    {
     "name": "stdout",
     "output_type": "stream",
     "text": [
      "True\n"
     ]
    }
   ],
   "source": [
    "# 29.Ans.\n",
    "\n",
    "def is_valid_palindrome(string):\n",
    "    alphanumeric_string = ''.join(char.lower() for char in string if char.isalnum())\n",
    "\n",
    "    left = 0\n",
    "    right = len(alphanumeric_string) - 1\n",
    "\n",
    "    while left < right:\n",
    "        if alphanumeric_string[left] != alphanumeric_string[right]:\n",
    "            return False\n",
    "        left += 1\n",
    "        right -= 1\n",
    "\n",
    "    return True\n",
    "string = \"ABCDCBA\"\n",
    "print(is_valid_palindrome(string))\n"
   ]
  },
  {
   "cell_type": "code",
   "execution_count": 6,
   "id": "47247bbe-d825-44c2-991f-5ebdc691978a",
   "metadata": {},
   "outputs": [
    {
     "name": "stdout",
     "output_type": "stream",
     "text": [
      "1\n"
     ]
    }
   ],
   "source": [
    "# 30.Ans.\n",
    "\n",
    "def find_min_element(nums):\n",
    "    left = 0\n",
    "    right = len(nums) - 1\n",
    "\n",
    "    while left < right:\n",
    "        mid = left + (right - left) // 2\n",
    "\n",
    "        \n",
    "        if nums[mid] > nums[right]:\n",
    "            left = mid + 1\n",
    "        \n",
    "        elif nums[mid] < nums[right]:\n",
    "            right = mid\n",
    "        \n",
    "        else:\n",
    "            right -= 1\n",
    "\n",
    "    \n",
    "    return nums[left]\n",
    "nums = [2,1,4,56,78,90]\n",
    "print(find_min_element(nums))\n",
    "\n"
   ]
  },
  {
   "cell_type": "code",
   "execution_count": 9,
   "id": "ffbcac57-19dd-40ef-9d1f-142b9e62a2cf",
   "metadata": {},
   "outputs": [
    {
     "name": "stdout",
     "output_type": "stream",
     "text": [
      "20\n"
     ]
    }
   ],
   "source": [
    "# 31.Ans.\n",
    "\n",
    "def sum_of_even_numbers(numbers):\n",
    "    even_sum = 0\n",
    "    for number in numbers:\n",
    "        if number % 2 == 0:\n",
    "            even_sum += number\n",
    "    return even_sum\n",
    "\n",
    "numbers= [1,2,3,4,5,6,7,8,9]\n",
    "print(sum_of_even_numbers(numbers))"
   ]
  },
  {
   "cell_type": "code",
   "execution_count": 19,
   "id": "71cf0883-4176-47db-a4b2-2ee95d6a486d",
   "metadata": {},
   "outputs": [
    {
     "name": "stdout",
     "output_type": "stream",
     "text": [
      "8\n"
     ]
    }
   ],
   "source": [
    "# 32.Ans.\n",
    "\n",
    "def power(base, exponent):\n",
    "    if exponent == 0:\n",
    "        return 1\n",
    "    elif exponent < 0:\n",
    "        return 1 / power(base, -exponent)\n",
    "    else:\n",
    "        return base * power(base, exponent - 1)\n",
    "\n",
    "base = 2\n",
    "exponent = 3\n",
    "result = power(base, exponent)\n",
    "print(result)\n",
    "\n",
    "        \n",
    "        \n",
    "    "
   ]
  },
  {
   "cell_type": "code",
   "execution_count": 1,
   "id": "af08d795-6077-4b49-b8c4-b5f35061fdac",
   "metadata": {},
   "outputs": [
    {
     "name": "stdout",
     "output_type": "stream",
     "text": [
      "[1, 2, 3, 4, 5]\n"
     ]
    }
   ],
   "source": [
    "# 33.Ans.\n",
    "\n",
    "def removeDuplicates(l):\n",
    "    return list(set(l))\n",
    "\n",
    "l = [1,2,3,1,4,5,5,1,2]\n",
    "print(removeDuplicates(l))\n",
    "\n"
   ]
  },
  {
   "cell_type": "code",
   "execution_count": 3,
   "id": "e98b983a-0603-4d79-88e3-9d5e9add3332",
   "metadata": {},
   "outputs": [
    {
     "name": "stdout",
     "output_type": "stream",
     "text": [
      "ap\n"
     ]
    }
   ],
   "source": [
    "# 34.Ans.\n",
    "\n",
    "def longest_common_prefix(s):\n",
    "    if not s:\n",
    "        return \"\"\n",
    "    prefix = s[0]\n",
    "    \n",
    "    for string in s[1:]:\n",
    "        while not string.startswith(prefix):\n",
    "            prefix = prefix[:-1]\n",
    "            if not prefix:\n",
    "                return \"\"\n",
    "    \n",
    "    return prefix\n",
    "s = [\"apple\",\"ape\",\"april\"]\n",
    "print(longest_common_prefix(s))\n"
   ]
  },
  {
   "cell_type": "code",
   "execution_count": 6,
   "id": "a0c6a78e-46dc-4122-b715-b97969475d30",
   "metadata": {},
   "outputs": [
    {
     "name": "stdout",
     "output_type": "stream",
     "text": [
      "True\n"
     ]
    }
   ],
   "source": [
    "# 35.Ans.\n",
    "\n",
    "import math\n",
    "\n",
    "def perfectSquare(n):\n",
    "    sqrt = math.isqrt(n)\n",
    "    return sqrt*sqrt==n\n",
    "n=16\n",
    "print(perfectSquare(n))\n",
    "    \n",
    "    "
   ]
  },
  {
   "cell_type": "code",
   "execution_count": 13,
   "id": "3d0f606f-8a5c-462e-a2db-61449d569014",
   "metadata": {},
   "outputs": [
    {
     "name": "stdout",
     "output_type": "stream",
     "text": [
      "362880\n"
     ]
    }
   ],
   "source": [
    "# 36.Ans.\n",
    "\n",
    "def calculate_product(numbers):\n",
    "    product = 1\n",
    "    for number in numbers:\n",
    "        product *= number\n",
    "    return product\n",
    "\n",
    "numbers= [1,2,3,4,5,6,7,8,9]\n",
    "print(calculate_product(numbers))"
   ]
  },
  {
   "cell_type": "code",
   "execution_count": 14,
   "id": "06c6ea85-957d-47b0-9fb5-38d8b6af24fd",
   "metadata": {},
   "outputs": [
    {
     "name": "stdout",
     "output_type": "stream",
     "text": [
      " mahbuhS\n"
     ]
    }
   ],
   "source": [
    "# 37.Ans.\n",
    "\n",
    "def reverseString(s):\n",
    "    reverse_string = \" \"\n",
    "    for i in range(len(s)-1,-1,-1):\n",
    "        reverse_string+=s[i]\n",
    "        \n",
    "    return reverse_string\n",
    "\n",
    "String = \"Shubham\"\n",
    "reversed_string = reverseString(String)\n",
    "\n",
    "print(reversed_string)\n"
   ]
  },
  {
   "cell_type": "code",
   "execution_count": 15,
   "id": "43487eed-ce76-481c-8637-4d34fecbf0a8",
   "metadata": {},
   "outputs": [
    {
     "name": "stdout",
     "output_type": "stream",
     "text": [
      "6\n"
     ]
    }
   ],
   "source": [
    "# 38.Ans.\n",
    "\n",
    "def find_missing_number(numbers):\n",
    "    n = len(numbers) + 1\n",
    "    total_sum = (n * (n + 1)) // 2\n",
    "    current_sum = sum(numbers)\n",
    "    missing_number = total_sum - current_sum\n",
    "    return missing_number\n",
    "numbers = [1,2,3,4,5]\n",
    "print(find_missing_number(numbers))\n"
   ]
  },
  {
   "cell_type": "code",
   "execution_count": 18,
   "id": "a707ced6-f4bb-47fa-9559-194bc5beea99",
   "metadata": {},
   "outputs": [
    {
     "name": "stdout",
     "output_type": "stream",
     "text": [
      "2\n"
     ]
    }
   ],
   "source": [
    "# 39.Ans.\n",
    "\n",
    "def suM_of_digits(n):\n",
    "    Sum = 0\n",
    "    while n>0:\n",
    "        digits = n%10\n",
    "        Sum+=digits\n",
    "        n//=10\n",
    "    return Sum\n",
    "n = 1001\n",
    "print(suM_of_digits(n))"
   ]
  },
  {
   "cell_type": "code",
   "execution_count": 19,
   "id": "62d34ed2-9dff-4b92-a14a-9fefe14bca4f",
   "metadata": {},
   "outputs": [
    {
     "name": "stdout",
     "output_type": "stream",
     "text": [
      "True\n"
     ]
    }
   ],
   "source": [
    "# 40.Ans.\n",
    "\n",
    "def check_palindrome(s):\n",
    "    s = s.replace(\" \",\" \").lower()\n",
    "    \n",
    "    return s == s[::-1]\n",
    "\n",
    "s = \"abba\"\n",
    "\n",
    "print(check_palindrome(s))\n"
   ]
  },
  {
   "cell_type": "code",
   "execution_count": 20,
   "id": "bcee3ef8-8b13-4db0-a6a1-3243497ebd5d",
   "metadata": {},
   "outputs": [
    {
     "name": "stdout",
     "output_type": "stream",
     "text": [
      "2\n"
     ]
    }
   ],
   "source": [
    "# 41.Ans.\n",
    "\n",
    "def find_smallest_missing_positive(numbers):\n",
    "    smallest_positive = 1\n",
    "    while smallest_positive in numbers:\n",
    "        smallest_positive += 1\n",
    "    return smallest_positive\n",
    "numbers = [1,3,4,5,6]\n",
    "print(find_smallest_missing_positive(numbers))"
   ]
  },
  {
   "cell_type": "code",
   "execution_count": 21,
   "id": "d5d2c5f5-cf8f-4bb0-92db-ce1dabf4ce6c",
   "metadata": {},
   "outputs": [
    {
     "name": "stdout",
     "output_type": "stream",
     "text": [
      "bab\n"
     ]
    }
   ],
   "source": [
    "# 42.Ans.\n",
    "\n",
    "def longest_palindrome_substring(string):\n",
    "    n = len(string)\n",
    "    if n < 2:\n",
    "        return string\n",
    "\n",
    "    start = 0\n",
    "    max_length = 1\n",
    "\n",
    "    \n",
    "    def centerF(left, right):\n",
    "        nonlocal start, max_length\n",
    "        while left >= 0 and right < n and string[left] == string[right]:\n",
    "            left -= 1\n",
    "            right += 1\n",
    "        length = right - left - 1\n",
    "        if length > max_length:\n",
    "            start = left + 1\n",
    "            max_length = length\n",
    "\n",
    "    \n",
    "    for i in range(n):\n",
    "        centerF(i, i)\n",
    "\n",
    "\n",
    "    for i in range(n - 1):\n",
    "        centerF(i, i + 1)\n",
    "\n",
    "    return string[start:start + max_length]\n",
    "string = \"babad\"\n",
    "print(longest_palindrome_substring(string))\n"
   ]
  },
  {
   "cell_type": "code",
   "execution_count": 22,
   "id": "19737b86-b361-4441-a0ff-7e068fd2fd11",
   "metadata": {},
   "outputs": [
    {
     "name": "stdout",
     "output_type": "stream",
     "text": [
      "1 occurs 2 times\n",
      "2 occurs 4 times\n",
      "3 occurs 1 times\n",
      "4 occurs 2 times\n",
      "5 occurs 1 times\n"
     ]
    }
   ],
   "source": [
    "# 43.Ans.\n",
    "\n",
    "def count_occurrences(lst):\n",
    "    occurrence_count = {}\n",
    "\n",
    "    for element in lst:\n",
    "        if element in occurrence_count:\n",
    "            occurrence_count[element] += 1\n",
    "        else:\n",
    "            occurrence_count[element] = 1\n",
    "\n",
    "    return occurrence_count\n",
    "\n",
    "numbers = [1,2,3,1,4,2,4,2,2,5]\n",
    "          \n",
    "occurrence_dict = count_occurrences(numbers)\n",
    "\n",
    "for element, count in occurrence_dict.items():\n",
    "    print(f\"{element} occurs {count} times\")\n",
    "\n",
    "\n"
   ]
  },
  {
   "cell_type": "code",
   "execution_count": 23,
   "id": "6de7f4a3-bf0f-42e5-9205-b7a2b98d49ab",
   "metadata": {},
   "outputs": [
    {
     "name": "stdout",
     "output_type": "stream",
     "text": [
      "True\n"
     ]
    }
   ],
   "source": [
    "# 44.Ans.\n",
    "\n",
    "def is_perfect_number(number):\n",
    "    if number <= 0:\n",
    "        return False\n",
    "\n",
    "    divisor_sum = sum(divisor for divisor in range(1, number) if number % divisor == 0)\n",
    "    return number == divisor_sum\n",
    "number = 28\n",
    "print(is_perfect_number(number))"
   ]
  },
  {
   "cell_type": "code",
   "execution_count": 24,
   "id": "d620b0e4-ba0e-4827-b9f8-992a57455bef",
   "metadata": {},
   "outputs": [
    {
     "name": "stdout",
     "output_type": "stream",
     "text": [
      "abcdfghrt\n"
     ]
    }
   ],
   "source": [
    "# 45.Ans.\n",
    "\n",
    "def remove_duplicates(string):\n",
    "    unique_chars = []\n",
    "    for char in string:\n",
    "        if char not in unique_chars:\n",
    "            unique_chars.append(char)\n",
    "    return ''.join(unique_chars)\n",
    "string = \"aaabbbcdfghrt\"\n",
    "print(remove_duplicates(string))\n"
   ]
  },
  {
   "cell_type": "code",
   "execution_count": 25,
   "id": "920bc969-e7bc-4276-81ef-e2e55d561d39",
   "metadata": {},
   "outputs": [
    {
     "name": "stdout",
     "output_type": "stream",
     "text": [
      "2\n"
     ]
    }
   ],
   "source": [
    "# 46.Ans.\n",
    "\n",
    "def find_first_missing_positive(nums):\n",
    "    \n",
    "    positive_nums = set(num for num in nums if num > 0)\n",
    "\n",
    "    \n",
    "    n = 1\n",
    "    while n in positive_nums:\n",
    "        n += 1\n",
    "\n",
    "    return n\n",
    "nums = [1,3,-2,-5]\n",
    "print(find_first_missing_positive(nums))\n"
   ]
  },
  {
   "cell_type": "code",
   "execution_count": null,
   "id": "a486ba13-7277-4d1e-884f-7ab0bec46c3f",
   "metadata": {},
   "outputs": [],
   "source": []
  }
 ],
 "metadata": {
  "kernelspec": {
   "display_name": "Python 3 (ipykernel)",
   "language": "python",
   "name": "python3"
  },
  "language_info": {
   "codemirror_mode": {
    "name": "ipython",
    "version": 3
   },
   "file_extension": ".py",
   "mimetype": "text/x-python",
   "name": "python",
   "nbconvert_exporter": "python",
   "pygments_lexer": "ipython3",
   "version": "3.10.6"
  }
 },
 "nbformat": 4,
 "nbformat_minor": 5
}
